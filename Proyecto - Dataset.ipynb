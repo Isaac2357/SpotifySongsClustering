{
 "cells": [
  {
   "cell_type": "code",
   "execution_count": 13,
   "metadata": {},
   "outputs": [],
   "source": [
    "import pandas as pd\n",
    "import numpy as np"
   ]
  },
  {
   "cell_type": "code",
   "execution_count": 14,
   "metadata": {
    "scrolled": true
   },
   "outputs": [],
   "source": [
    "data = pd.read_csv(\"SpotifyFeatures.csv\")\n",
    "\n",
    "# Eliminar: artist_name, track_name\n",
    "data.drop([\"artist_name\", \"track_name\"], axis=1, inplace=True)"
   ]
  },
  {
   "cell_type": "code",
   "execution_count": 15,
   "metadata": {},
   "outputs": [],
   "source": [
    "# Hacer numérico:  genre, key, mode, time_signature\n",
    "\n",
    "# Solucionar PRIMERO problema con \"children´s music\"\n",
    "findC = [\"Children's Music\"]\n",
    "replaceC = ['Children’s Music']\n",
    "colC = 'genre'\n",
    "data[colC].replace(findC, replaceC, inplace=True)\n",
    "\n",
    "# Genre: 0-25\n",
    "findG = ['A Capella','Alternative', 'Anime', 'Blues',\n",
    "         'Children’s Music', 'Classical', 'Comedy', \n",
    "         'Country', 'Dance', 'Electronic', 'Folk',\n",
    "         'Hip-Hop', 'Indie', 'Jazz', 'Movie', 'Opera',\n",
    "         'Pop', 'R&B', 'Rap','Reggae', 'Reggaeton',\n",
    "         'Rock', 'Ska', 'Soul', 'Soundtrack', 'World']\n",
    "replaceG = [0, 1, 2, 3, 4, 5, 6, 7, 8, 9, 10, 11, 12, 13, 14, 15, 16, 17, 18, 19, 20, 21, 22, 23, 24, 25]\n",
    "colG = 'genre'\n",
    "data[colG].replace(findG, replaceG, inplace=True)\n",
    "\n",
    "# Key: 0-11\n",
    "findK = [\"A\", \"A#\", \"B\", \"C\", \"C#\", \"D\", \"D#\", \"E\", \"F\", \"F#\", \"G\", \"G#\"]\n",
    "replaceK = [1, 1, 2, 3, 4, 5, 6, 7, 8, 9, 10, 11] \n",
    "col = 'key'\n",
    "data[col].replace(findK, replaceK, inplace=True)\n",
    "\n",
    "# Mode: 0-1\n",
    "findM = [\"Major\", \"Minor\"]\n",
    "replaceM = [0, 1] \n",
    "colM = 'mode'\n",
    "data[colM].replace(findM, replaceM, inplace=True)\n",
    "\n",
    "# time_signature: 0-3\n",
    "findL = [\"0/4\", \"1/4\", \"3/4\", \"4/4\", \"5/4\"]\n",
    "replaceL = [0, 1, 2, 3, 4] \n",
    "colL = 'time_signature'\n",
    "data[colL].replace(findL, replaceL, inplace=True)"
   ]
  },
  {
   "cell_type": "code",
   "execution_count": 16,
   "metadata": {},
   "outputs": [],
   "source": [
    "#Escribir nuevo archivo csv\n",
    "# Dejamos track_id para después hacer comparaciones de los resultados.\n",
    "data.to_csv (r'SpotifyFeaturesNumeric.csv', index = False, header=True)"
   ]
  },
  {
   "cell_type": "code",
   "execution_count": 17,
   "metadata": {},
   "outputs": [
    {
     "name": "stdout",
     "output_type": "stream",
     "text": [
      "<class 'pandas.core.frame.DataFrame'>\n",
      "RangeIndex: 232725 entries, 0 to 232724\n",
      "Data columns (total 16 columns):\n",
      "genre               232725 non-null int64\n",
      "track_id            232725 non-null object\n",
      "popularity          232725 non-null int64\n",
      "acousticness        232725 non-null float64\n",
      "danceability        232725 non-null float64\n",
      "duration_ms         232725 non-null int64\n",
      "energy              232725 non-null float64\n",
      "instrumentalness    232725 non-null float64\n",
      "key                 232725 non-null int64\n",
      "liveness            232725 non-null float64\n",
      "loudness            232725 non-null float64\n",
      "mode                232725 non-null int64\n",
      "speechiness         232725 non-null float64\n",
      "tempo               232725 non-null float64\n",
      "time_signature      232725 non-null int64\n",
      "valence             232725 non-null float64\n",
      "dtypes: float64(9), int64(6), object(1)\n",
      "memory usage: 28.4+ MB\n"
     ]
    }
   ],
   "source": [
    "# Ver información del nuevo dataset\n",
    "data.info()"
   ]
  }
 ],
 "metadata": {
  "kernelspec": {
   "display_name": "Python 3",
   "language": "python",
   "name": "python3"
  },
  "language_info": {
   "codemirror_mode": {
    "name": "ipython",
    "version": 3
   },
   "file_extension": ".py",
   "mimetype": "text/x-python",
   "name": "python",
   "nbconvert_exporter": "python",
   "pygments_lexer": "ipython3",
   "version": "3.7.4"
  }
 },
 "nbformat": 4,
 "nbformat_minor": 2
}
