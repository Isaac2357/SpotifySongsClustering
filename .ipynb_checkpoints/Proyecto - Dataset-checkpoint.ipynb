{
 "cells": [
  {
   "cell_type": "code",
   "execution_count": 1,
   "metadata": {},
   "outputs": [],
   "source": [
    "import pandas as pd\n",
    "import numpy as np"
   ]
  },
  {
   "cell_type": "code",
   "execution_count": 4,
   "metadata": {
    "scrolled": true
   },
   "outputs": [
    {
     "name": "stdout",
     "output_type": "stream",
     "text": [
      "<class 'pandas.core.frame.DataFrame'>\n",
      "RangeIndex: 232725 entries, 0 to 232724\n",
      "Data columns (total 18 columns):\n",
      "genre               232725 non-null object\n",
      "artist_name         232725 non-null object\n",
      "track_name          232725 non-null object\n",
      "track_id            232725 non-null object\n",
      "popularity          232725 non-null int64\n",
      "acousticness        232725 non-null float64\n",
      "danceability        232725 non-null float64\n",
      "duration_ms         232725 non-null int64\n",
      "energy              232725 non-null float64\n",
      "instrumentalness    232725 non-null float64\n",
      "key                 232725 non-null object\n",
      "liveness            232725 non-null float64\n",
      "loudness            232725 non-null float64\n",
      "mode                232725 non-null object\n",
      "speechiness         232725 non-null float64\n",
      "tempo               232725 non-null float64\n",
      "time_signature      232725 non-null object\n",
      "valence             232725 non-null float64\n",
      "dtypes: float64(9), int64(2), object(7)\n",
      "memory usage: 32.0+ MB\n"
     ]
    }
   ],
   "source": [
    "data = pd.read_csv(\"SpotifyFeatures.csv\")\n",
    "data.head()"
   ]
  }
 ],
 "metadata": {
  "kernelspec": {
   "display_name": "Python 3",
   "language": "python",
   "name": "python3"
  },
  "language_info": {
   "codemirror_mode": {
    "name": "ipython",
    "version": 3
   },
   "file_extension": ".py",
   "mimetype": "text/x-python",
   "name": "python",
   "nbconvert_exporter": "python",
   "pygments_lexer": "ipython3",
   "version": "3.7.4"
  }
 },
 "nbformat": 4,
 "nbformat_minor": 2
}
